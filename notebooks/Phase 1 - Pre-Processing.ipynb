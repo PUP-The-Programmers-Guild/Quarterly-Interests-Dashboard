{
 "cells": [
  {
   "cell_type": "code",
   "execution_count": 1,
   "id": "2ba8a619",
   "metadata": {},
   "outputs": [],
   "source": [
    "import pandas as pd\n",
    "import os"
   ]
  },
  {
   "cell_type": "code",
   "execution_count": 2,
   "id": "1dd04098",
   "metadata": {},
   "outputs": [
    {
     "data": {
      "text/plain": [
       "['Phase 1 - Pre-Processing.ipynb', 'empty', '.ipynb_checkpoints']"
      ]
     },
     "execution_count": 2,
     "metadata": {},
     "output_type": "execute_result"
    }
   ],
   "source": [
    "os.listdir('.')"
   ]
  },
  {
   "cell_type": "code",
   "execution_count": 3,
   "id": "4d250cf5",
   "metadata": {},
   "outputs": [],
   "source": [
    "os.chdir('../')"
   ]
  },
  {
   "cell_type": "code",
   "execution_count": 5,
   "id": "971e0f78",
   "metadata": {},
   "outputs": [],
   "source": [
    "data = pd.read_csv('data/Sample Data - Public Data.csv')"
   ]
  },
  {
   "cell_type": "code",
   "execution_count": 6,
   "id": "4f72bbed",
   "metadata": {
    "scrolled": true
   },
   "outputs": [],
   "source": [
    "data = data.rename(columns={\n",
    "    'PUP Branch and Campuses ':'branch',\n",
    "    'Program / Course':'course',\n",
    "    'Year Level':'year',\n",
    "    'What are your Current Specialization or Fields of Interests?':'raw_interests',\n",
    "    \"Technologies/Frameworks you're familiar with\":'technologies',\n",
    "    'How stable would you rate your internet connection at home?':'internet_connection_rate',\n",
    "})"
   ]
  },
  {
   "cell_type": "code",
   "execution_count": 7,
   "id": "694031ad",
   "metadata": {},
   "outputs": [
    {
     "data": {
      "text/plain": [
       "Sta. Mesa,  Manila (MAIN)    114\n",
       "San Juan (Branch)             27\n",
       "Sta Rosa (BRANCH)             27\n",
       "Quezon City                    1\n",
       "Taguig                         1\n",
       "Name: branch, dtype: int64"
      ]
     },
     "execution_count": 7,
     "metadata": {},
     "output_type": "execute_result"
    }
   ],
   "source": [
    "data['branch'].value_counts()"
   ]
  },
  {
   "cell_type": "code",
   "execution_count": 8,
   "id": "b1039aab",
   "metadata": {},
   "outputs": [
    {
     "data": {
      "text/html": [
       "<div>\n",
       "<style scoped>\n",
       "    .dataframe tbody tr th:only-of-type {\n",
       "        vertical-align: middle;\n",
       "    }\n",
       "\n",
       "    .dataframe tbody tr th {\n",
       "        vertical-align: top;\n",
       "    }\n",
       "\n",
       "    .dataframe thead th {\n",
       "        text-align: right;\n",
       "    }\n",
       "</style>\n",
       "<table border=\"1\" class=\"dataframe\">\n",
       "  <thead>\n",
       "    <tr style=\"text-align: right;\">\n",
       "      <th></th>\n",
       "      <th>ID</th>\n",
       "      <th>branch</th>\n",
       "      <th>course</th>\n",
       "      <th>Year Level</th>\n",
       "      <th>raw_interests</th>\n",
       "      <th>technologies</th>\n",
       "      <th>internet_connection_rate</th>\n",
       "    </tr>\n",
       "  </thead>\n",
       "  <tbody>\n",
       "    <tr>\n",
       "      <th>0</th>\n",
       "      <td>1</td>\n",
       "      <td>Sta. Mesa,  Manila (MAIN)</td>\n",
       "      <td>Diploma in Information Communication Technology</td>\n",
       "      <td>3rd Year</td>\n",
       "      <td>Data Science &amp; AI, Web Development, Mobile Dev...</td>\n",
       "      <td>-HTML\\n-CSS\\n-Python</td>\n",
       "      <td>4</td>\n",
       "    </tr>\n",
       "    <tr>\n",
       "      <th>1</th>\n",
       "      <td>2</td>\n",
       "      <td>Sta. Mesa,  Manila (MAIN)</td>\n",
       "      <td>BS Information Technology</td>\n",
       "      <td>3rd Year</td>\n",
       "      <td>Graphics/Games Related Development, Human Comp...</td>\n",
       "      <td>- JavaScript\\n- Python\\n- HTML/CSS</td>\n",
       "      <td>5</td>\n",
       "    </tr>\n",
       "    <tr>\n",
       "      <th>2</th>\n",
       "      <td>3</td>\n",
       "      <td>San Juan (Branch)</td>\n",
       "      <td>BS Information Technology</td>\n",
       "      <td>3rd Year</td>\n",
       "      <td>Web Development</td>\n",
       "      <td>- HTML &amp; CSS\\n- Python \\n- Java \\n- Javascript...</td>\n",
       "      <td>3</td>\n",
       "    </tr>\n",
       "    <tr>\n",
       "      <th>3</th>\n",
       "      <td>4</td>\n",
       "      <td>Sta Rosa (BRANCH)</td>\n",
       "      <td>BS Information Technology</td>\n",
       "      <td>2nd Year</td>\n",
       "      <td>Web Development, Graphics/Games Related Develo...</td>\n",
       "      <td>-HTML\\n-JavaScript\\n-COBOL\\n-PHP\\n-Python\\n-C#</td>\n",
       "      <td>3</td>\n",
       "    </tr>\n",
       "    <tr>\n",
       "      <th>4</th>\n",
       "      <td>5</td>\n",
       "      <td>Sta. Mesa,  Manila (MAIN)</td>\n",
       "      <td>BS Computer Science</td>\n",
       "      <td>2nd Year</td>\n",
       "      <td>Mobile Development, Graphics/Games Related Dev...</td>\n",
       "      <td>- HTML\\n- CSS\\n- SASS\\n- Python\\n- Flutter \\n-...</td>\n",
       "      <td>4</td>\n",
       "    </tr>\n",
       "    <tr>\n",
       "      <th>...</th>\n",
       "      <td>...</td>\n",
       "      <td>...</td>\n",
       "      <td>...</td>\n",
       "      <td>...</td>\n",
       "      <td>...</td>\n",
       "      <td>...</td>\n",
       "      <td>...</td>\n",
       "    </tr>\n",
       "    <tr>\n",
       "      <th>165</th>\n",
       "      <td>166</td>\n",
       "      <td>Sta. Mesa,  Manila (MAIN)</td>\n",
       "      <td>BS Information Technology</td>\n",
       "      <td>3rd Year</td>\n",
       "      <td>Data Science &amp; AI, Graphics/Games Related Deve...</td>\n",
       "      <td>-HTML\\n-Java\\n-Flutter\\n-Python\\n-CSS\\n-Javasc...</td>\n",
       "      <td>5</td>\n",
       "    </tr>\n",
       "    <tr>\n",
       "      <th>166</th>\n",
       "      <td>167</td>\n",
       "      <td>Sta. Mesa,  Manila (MAIN)</td>\n",
       "      <td>BS Computer Science</td>\n",
       "      <td>2nd Year</td>\n",
       "      <td>Web Development</td>\n",
       "      <td>- Javascript\\n- PHP\\n- Laravel</td>\n",
       "      <td>4</td>\n",
       "    </tr>\n",
       "    <tr>\n",
       "      <th>167</th>\n",
       "      <td>168</td>\n",
       "      <td>Sta Rosa (BRANCH)</td>\n",
       "      <td>BS Computer Sciene</td>\n",
       "      <td>3rd Year</td>\n",
       "      <td>Data Science &amp; AI</td>\n",
       "      <td>- C\\n- PHP\\n- Java\\n- JavaScript\\n- HTML \\n- P...</td>\n",
       "      <td>3</td>\n",
       "    </tr>\n",
       "    <tr>\n",
       "      <th>168</th>\n",
       "      <td>169</td>\n",
       "      <td>Sta Rosa (BRANCH)</td>\n",
       "      <td>BS Computer Engineering</td>\n",
       "      <td>3rd Year</td>\n",
       "      <td>Web Development, Graphics/Games Related Develo...</td>\n",
       "      <td>- C\\n- Java\\n</td>\n",
       "      <td>2</td>\n",
       "    </tr>\n",
       "    <tr>\n",
       "      <th>169</th>\n",
       "      <td>170</td>\n",
       "      <td>Sta. Mesa,  Manila (MAIN)</td>\n",
       "      <td>BS Computer Science</td>\n",
       "      <td>3rd Year</td>\n",
       "      <td>Web Development</td>\n",
       "      <td>- Javascript\\n- Typescript\\n- React\\n- Elixir\\...</td>\n",
       "      <td>3</td>\n",
       "    </tr>\n",
       "  </tbody>\n",
       "</table>\n",
       "<p>170 rows × 7 columns</p>\n",
       "</div>"
      ],
      "text/plain": [
       "      ID                     branch  \\\n",
       "0      1  Sta. Mesa,  Manila (MAIN)   \n",
       "1      2  Sta. Mesa,  Manila (MAIN)   \n",
       "2      3          San Juan (Branch)   \n",
       "3      4          Sta Rosa (BRANCH)   \n",
       "4      5  Sta. Mesa,  Manila (MAIN)   \n",
       "..   ...                        ...   \n",
       "165  166  Sta. Mesa,  Manila (MAIN)   \n",
       "166  167  Sta. Mesa,  Manila (MAIN)   \n",
       "167  168          Sta Rosa (BRANCH)   \n",
       "168  169          Sta Rosa (BRANCH)   \n",
       "169  170  Sta. Mesa,  Manila (MAIN)   \n",
       "\n",
       "                                              course Year Level   \\\n",
       "0    Diploma in Information Communication Technology    3rd Year   \n",
       "1                          BS Information Technology    3rd Year   \n",
       "2                          BS Information Technology    3rd Year   \n",
       "3                          BS Information Technology    2nd Year   \n",
       "4                               BS Computer Science     2nd Year   \n",
       "..                                               ...         ...   \n",
       "165                        BS Information Technology    3rd Year   \n",
       "166                              BS Computer Science    2nd Year   \n",
       "167                               BS Computer Sciene    3rd Year   \n",
       "168                          BS Computer Engineering    3rd Year   \n",
       "169                              BS Computer Science    3rd Year   \n",
       "\n",
       "                                         raw_interests  \\\n",
       "0    Data Science & AI, Web Development, Mobile Dev...   \n",
       "1    Graphics/Games Related Development, Human Comp...   \n",
       "2                                      Web Development   \n",
       "3    Web Development, Graphics/Games Related Develo...   \n",
       "4    Mobile Development, Graphics/Games Related Dev...   \n",
       "..                                                 ...   \n",
       "165  Data Science & AI, Graphics/Games Related Deve...   \n",
       "166                                    Web Development   \n",
       "167                                  Data Science & AI   \n",
       "168  Web Development, Graphics/Games Related Develo...   \n",
       "169                                    Web Development   \n",
       "\n",
       "                                          technologies  \\\n",
       "0                                 -HTML\\n-CSS\\n-Python   \n",
       "1                   - JavaScript\\n- Python\\n- HTML/CSS   \n",
       "2    - HTML & CSS\\n- Python \\n- Java \\n- Javascript...   \n",
       "3       -HTML\\n-JavaScript\\n-COBOL\\n-PHP\\n-Python\\n-C#   \n",
       "4    - HTML\\n- CSS\\n- SASS\\n- Python\\n- Flutter \\n-...   \n",
       "..                                                 ...   \n",
       "165  -HTML\\n-Java\\n-Flutter\\n-Python\\n-CSS\\n-Javasc...   \n",
       "166                     - Javascript\\n- PHP\\n- Laravel   \n",
       "167  - C\\n- PHP\\n- Java\\n- JavaScript\\n- HTML \\n- P...   \n",
       "168                                      - C\\n- Java\\n   \n",
       "169  - Javascript\\n- Typescript\\n- React\\n- Elixir\\...   \n",
       "\n",
       "     internet_connection_rate  \n",
       "0                           4  \n",
       "1                           5  \n",
       "2                           3  \n",
       "3                           3  \n",
       "4                           4  \n",
       "..                        ...  \n",
       "165                         5  \n",
       "166                         4  \n",
       "167                         3  \n",
       "168                         2  \n",
       "169                         3  \n",
       "\n",
       "[170 rows x 7 columns]"
      ]
     },
     "execution_count": 8,
     "metadata": {},
     "output_type": "execute_result"
    }
   ],
   "source": [
    "data"
   ]
  },
  {
   "cell_type": "code",
   "execution_count": 10,
   "id": "1a1710b7",
   "metadata": {},
   "outputs": [
    {
     "name": "stdout",
     "output_type": "stream",
     "text": [
      "/bin/bash: /home/randomuser/miniconda3/lib/libtinfo.so.6: no version information available (required by /bin/bash)\n",
      "Requirement already satisfied: onedrivesdk in ./myenv/lib/python3.7/site-packages (2.0.1)\n",
      "\u001b[33mWARNING: You are using pip version 20.1.1; however, version 22.3.1 is available.\n",
      "You should consider upgrading via the '/home/randomuser/Documents/Program Files/Quarterly-Interests-Dashboard/myenv/bin/python3 -m pip install --upgrade pip' command.\u001b[0m\n",
      "/bin/bash: /home/randomuser/miniconda3/lib/libtinfo.so.6: no version information available (required by /bin/bash)\n",
      "Collecting requests\n",
      "  Using cached requests-2.28.1-py3-none-any.whl (62 kB)\n",
      "Collecting urllib3<1.27,>=1.21.1\n",
      "  Downloading urllib3-1.26.13-py2.py3-none-any.whl (140 kB)\n",
      "\u001b[K     |████████████████████████████████| 140 kB 4.0 MB/s eta 0:00:01\n",
      "\u001b[?25hCollecting charset-normalizer<3,>=2\n",
      "  Using cached charset_normalizer-2.1.1-py3-none-any.whl (39 kB)\n",
      "Collecting certifi>=2017.4.17\n",
      "  Using cached certifi-2022.9.24-py3-none-any.whl (161 kB)\n",
      "Requirement already satisfied: idna<4,>=2.5 in ./myenv/lib/python3.7/site-packages (from requests) (3.4)\n",
      "Installing collected packages: urllib3, charset-normalizer, certifi, requests\n",
      "Successfully installed certifi-2022.9.24 charset-normalizer-2.1.1 requests-2.28.1 urllib3-1.26.13\n",
      "\u001b[33mWARNING: You are using pip version 20.1.1; however, version 22.3.1 is available.\n",
      "You should consider upgrading via the '/home/randomuser/Documents/Program Files/Quarterly-Interests-Dashboard/myenv/bin/python3 -m pip install --upgrade pip' command.\u001b[0m\n",
      "/bin/bash: /home/randomuser/miniconda3/lib/libtinfo.so.6: no version information available (required by /bin/bash)\n",
      "Requirement already satisfied: pillow in ./myenv/lib/python3.7/site-packages (9.3.0)\n",
      "\u001b[33mWARNING: You are using pip version 20.1.1; however, version 22.3.1 is available.\n",
      "You should consider upgrading via the '/home/randomuser/Documents/Program Files/Quarterly-Interests-Dashboard/myenv/bin/python3 -m pip install --upgrade pip' command.\u001b[0m\n"
     ]
    }
   ],
   "source": [
    "!pip install onedrivesdk\n",
    "!pip install requests\n",
    "!pip install pillow"
   ]
  },
  {
   "cell_type": "code",
   "execution_count": 11,
   "id": "015174be",
   "metadata": {},
   "outputs": [
    {
     "ename": "ImportError",
     "evalue": "'onedrivesdk' has been deprecated.\nVisit https://pypi.org/project/onedrivesdk for migration information.",
     "output_type": "error",
     "traceback": [
      "\u001b[0;31m---------------------------------------------------------------------------\u001b[0m",
      "\u001b[0;31mImportError\u001b[0m                               Traceback (most recent call last)",
      "\u001b[0;32m/tmp/ipykernel_18867/1549382007.py\u001b[0m in \u001b[0;36m<module>\u001b[0;34m\u001b[0m\n\u001b[0;32m----> 1\u001b[0;31m \u001b[0;32mimport\u001b[0m \u001b[0monedrivesdk\u001b[0m\u001b[0;34m\u001b[0m\u001b[0;34m\u001b[0m\u001b[0m\n\u001b[0m",
      "\u001b[0;32m~/Documents/Program Files/Quarterly-Interests-Dashboard/myenv/lib/python3.7/site-packages/onedrivesdk/__init__.py\u001b[0m in \u001b[0;36m<module>\u001b[0;34m\u001b[0m\n\u001b[1;32m      4\u001b[0m Visit https://pypi.org/project/onedrivesdk for migration information.\"\"\"\n\u001b[1;32m      5\u001b[0m \u001b[0;34m\u001b[0m\u001b[0m\n\u001b[0;32m----> 6\u001b[0;31m \u001b[0;32mraise\u001b[0m \u001b[0mImportError\u001b[0m\u001b[0;34m(\u001b[0m\u001b[0mMESSAGE\u001b[0m\u001b[0;34m)\u001b[0m\u001b[0;34m\u001b[0m\u001b[0;34m\u001b[0m\u001b[0m\n\u001b[0m",
      "\u001b[0;31mImportError\u001b[0m: 'onedrivesdk' has been deprecated.\nVisit https://pypi.org/project/onedrivesdk for migration information."
     ]
    }
   ],
   "source": [
    "import onedrivesdk"
   ]
  },
  {
   "cell_type": "code",
   "execution_count": 4,
   "id": "c7409def",
   "metadata": {},
   "outputs": [
    {
     "name": "stdout",
     "output_type": "stream",
     "text": [
      "/bin/bash: /home/randomuser/miniconda3/lib/libtinfo.so.6: no version information available (required by /bin/bash)\n",
      "Collecting azure-identity\n",
      "  Downloading azure_identity-1.12.0-py3-none-any.whl (135 kB)\n",
      "\u001b[K     |████████████████████████████████| 135 kB 4.2 MB/s eta 0:00:01\n",
      "\u001b[?25hCollecting msal-extensions<2.0.0,>=0.3.0\n",
      "  Downloading msal_extensions-1.0.0-py2.py3-none-any.whl (19 kB)\n",
      "Collecting cryptography>=2.5\n",
      "  Downloading cryptography-38.0.4-cp36-abi3-manylinux_2_17_x86_64.manylinux2014_x86_64.whl (4.1 MB)\n",
      "\u001b[K     |████████████████████████████████| 4.1 MB 4.4 MB/s eta 0:00:011\n",
      "\u001b[?25hCollecting msal<2.0.0,>=1.12.0\n",
      "  Downloading msal-1.20.0-py2.py3-none-any.whl (90 kB)\n",
      "\u001b[K     |████████████████████████████████| 90 kB 1.7 MB/s eta 0:00:01\n",
      "\u001b[?25hRequirement already satisfied: six>=1.12.0 in ./myenv/lib/python3.7/site-packages (from azure-identity) (1.16.0)\n",
      "Collecting azure-core<2.0.0,>=1.11.0\n",
      "  Downloading azure_core-1.26.1-py3-none-any.whl (172 kB)\n",
      "\u001b[K     |████████████████████████████████| 172 kB 1.0 MB/s eta 0:00:01\n",
      "\u001b[?25hCollecting portalocker<3,>=1.0; python_version >= \"3.5\" and platform_system != \"Windows\"\n",
      "  Downloading portalocker-2.6.0-py2.py3-none-any.whl (15 kB)\n",
      "Requirement already satisfied: cffi>=1.12 in ./myenv/lib/python3.7/site-packages (from cryptography>=2.5->azure-identity) (1.15.1)\n",
      "Collecting PyJWT[crypto]<3,>=1.0.0\n",
      "  Downloading PyJWT-2.6.0-py3-none-any.whl (20 kB)\n",
      "Requirement already satisfied: requests<3,>=2.0.0 in ./myenv/lib/python3.7/site-packages (from msal<2.0.0,>=1.12.0->azure-identity) (2.28.1)\n",
      "Requirement already satisfied: typing-extensions>=4.0.1 in ./myenv/lib/python3.7/site-packages (from azure-core<2.0.0,>=1.11.0->azure-identity) (4.4.0)\n",
      "Requirement already satisfied: pycparser in ./myenv/lib/python3.7/site-packages (from cffi>=1.12->cryptography>=2.5->azure-identity) (2.21)\n",
      "Requirement already satisfied: idna<4,>=2.5 in ./myenv/lib/python3.7/site-packages (from requests<3,>=2.0.0->msal<2.0.0,>=1.12.0->azure-identity) (3.4)\n",
      "Requirement already satisfied: urllib3<1.27,>=1.21.1 in ./myenv/lib/python3.7/site-packages (from requests<3,>=2.0.0->msal<2.0.0,>=1.12.0->azure-identity) (1.26.13)\n",
      "Requirement already satisfied: charset-normalizer<3,>=2 in ./myenv/lib/python3.7/site-packages (from requests<3,>=2.0.0->msal<2.0.0,>=1.12.0->azure-identity) (2.1.1)\n",
      "Requirement already satisfied: certifi>=2017.4.17 in ./myenv/lib/python3.7/site-packages (from requests<3,>=2.0.0->msal<2.0.0,>=1.12.0->azure-identity) (2022.9.24)\n",
      "Installing collected packages: cryptography, PyJWT, msal, portalocker, msal-extensions, azure-core, azure-identity\n",
      "Successfully installed PyJWT-2.6.0 azure-core-1.26.1 azure-identity-1.12.0 cryptography-38.0.4 msal-1.20.0 msal-extensions-1.0.0 portalocker-2.6.0\n",
      "\u001b[33mWARNING: You are using pip version 20.1.1; however, version 22.3.1 is available.\n",
      "You should consider upgrading via the '/home/randomuser/Documents/Program Files/Quarterly-Interests-Dashboard/myenv/bin/python3 -m pip install --upgrade pip' command.\u001b[0m\n",
      "/bin/bash: /home/randomuser/miniconda3/lib/libtinfo.so.6: no version information available (required by /bin/bash)\n",
      "Collecting msgraph-core\n",
      "  Downloading msgraph_core-0.2.2-py3-none-any.whl (15 kB)\n",
      "Installing collected packages: msgraph-core\n",
      "Successfully installed msgraph-core-0.2.2\n",
      "\u001b[33mWARNING: You are using pip version 20.1.1; however, version 22.3.1 is available.\n",
      "You should consider upgrading via the '/home/randomuser/Documents/Program Files/Quarterly-Interests-Dashboard/myenv/bin/python3 -m pip install --upgrade pip' command.\u001b[0m\n"
     ]
    }
   ],
   "source": [
    "!python3 -m pip install azure-identity\n",
    "!python3 -m pip install msgraph-core"
   ]
  },
  {
   "cell_type": "code",
   "execution_count": null,
   "id": "37bfdfa1",
   "metadata": {},
   "outputs": [],
   "source": []
  }
 ],
 "metadata": {
  "kernelspec": {
   "display_name": "Python 3 (ipykernel)",
   "language": "python",
   "name": "python3"
  },
  "language_info": {
   "codemirror_mode": {
    "name": "ipython",
    "version": 3
   },
   "file_extension": ".py",
   "mimetype": "text/x-python",
   "name": "python",
   "nbconvert_exporter": "python",
   "pygments_lexer": "ipython3",
   "version": "3.7.10"
  }
 },
 "nbformat": 4,
 "nbformat_minor": 5
}
